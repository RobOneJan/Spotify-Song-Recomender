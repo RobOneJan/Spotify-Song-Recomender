{
 "cells": [
  {
   "cell_type": "code",
   "execution_count": 408,
   "metadata": {},
   "outputs": [],
   "source": [
    "from bs4 import BeautifulSoup\n",
    "import requests\n",
    "import pandas as pd\n",
    "import re\n",
    "import difflib"
   ]
  },
  {
   "cell_type": "markdown",
   "metadata": {},
   "source": [
    "## Billboardcharts"
   ]
  },
  {
   "cell_type": "code",
   "execution_count": 411,
   "metadata": {},
   "outputs": [],
   "source": [
    "url= \"https://www.billboard.com/charts/hot-100\"\n",
    "\n",
    "response = requests.get(url)\n",
    "response.status_code # 200 status code means OK!\n",
    "\n",
    "soup = BeautifulSoup(response.content, \"html.parser\")"
   ]
  },
  {
   "cell_type": "code",
   "execution_count": 412,
   "metadata": {},
   "outputs": [],
   "source": [
    "song=[]\n",
    "artist=[]\n",
    "lastweek=[]\n",
    "peak=[]\n",
    "oncharts=[]"
   ]
  },
  {
   "cell_type": "code",
   "execution_count": 413,
   "metadata": {},
   "outputs": [],
   "source": [
    "for i in range (len(soup.select(\".chart-element__information\"))):\n",
    "    chart=soup.select(\".chart-element__information\")[i].get_text().split(\"\\n\")\n",
    "    \n",
    "    song.append(chart[1])\n",
    "    artist.append(chart[2])\n",
    "    lastweek.append(chart[5])\n",
    "    peak.append(chart[6])\n",
    "    oncharts.append(chart[7])"
   ]
  },
  {
   "cell_type": "code",
   "execution_count": 414,
   "metadata": {},
   "outputs": [],
   "source": [
    "p = re.compile(\"\\d+\")\n",
    "\n",
    "\n",
    "oncharts = list(map(lambda x: int(p.search(x).group(0)),oncharts))\n",
    "peak = list(map(lambda x: int(p.search(x).group(0)),peak))\n",
    "lastweek = list(map(lambda x:x.replace(\"Last Week\",\"\"),lastweek))\n",
    "rank=range(1,101)"
   ]
  },
  {
   "cell_type": "code",
   "execution_count": 415,
   "metadata": {},
   "outputs": [
    {
     "data": {
      "text/html": [
       "<div>\n",
       "<style scoped>\n",
       "    .dataframe tbody tr th:only-of-type {\n",
       "        vertical-align: middle;\n",
       "    }\n",
       "\n",
       "    .dataframe tbody tr th {\n",
       "        vertical-align: top;\n",
       "    }\n",
       "\n",
       "    .dataframe thead th {\n",
       "        text-align: right;\n",
       "    }\n",
       "</style>\n",
       "<table border=\"1\" class=\"dataframe\">\n",
       "  <thead>\n",
       "    <tr style=\"text-align: right;\">\n",
       "      <th></th>\n",
       "      <th>rank</th>\n",
       "      <th>song</th>\n",
       "      <th>artist</th>\n",
       "      <th>lastweek</th>\n",
       "      <th>peak</th>\n",
       "      <th>oncharts</th>\n",
       "    </tr>\n",
       "  </thead>\n",
       "  <tbody>\n",
       "    <tr>\n",
       "      <th>0</th>\n",
       "      <td>1</td>\n",
       "      <td>Drivers License</td>\n",
       "      <td>Olivia Rodrigo</td>\n",
       "      <td>1</td>\n",
       "      <td>1</td>\n",
       "      <td>6</td>\n",
       "    </tr>\n",
       "    <tr>\n",
       "      <th>1</th>\n",
       "      <td>2</td>\n",
       "      <td>34+35</td>\n",
       "      <td>Ariana Grande</td>\n",
       "      <td>6</td>\n",
       "      <td>2</td>\n",
       "      <td>16</td>\n",
       "    </tr>\n",
       "    <tr>\n",
       "      <th>2</th>\n",
       "      <td>3</td>\n",
       "      <td>Calling My Phone</td>\n",
       "      <td>Lil Tjay Featuring 6LACK</td>\n",
       "      <td>-</td>\n",
       "      <td>3</td>\n",
       "      <td>1</td>\n",
       "    </tr>\n",
       "    <tr>\n",
       "      <th>3</th>\n",
       "      <td>4</td>\n",
       "      <td>Blinding Lights</td>\n",
       "      <td>The Weeknd</td>\n",
       "      <td>3</td>\n",
       "      <td>1</td>\n",
       "      <td>63</td>\n",
       "    </tr>\n",
       "    <tr>\n",
       "      <th>4</th>\n",
       "      <td>5</td>\n",
       "      <td>Up</td>\n",
       "      <td>Cardi B</td>\n",
       "      <td>2</td>\n",
       "      <td>2</td>\n",
       "      <td>2</td>\n",
       "    </tr>\n",
       "  </tbody>\n",
       "</table>\n",
       "</div>"
      ],
      "text/plain": [
       "   rank              song                    artist lastweek  peak  oncharts\n",
       "0     1   Drivers License            Olivia Rodrigo       1      1         6\n",
       "1     2             34+35             Ariana Grande       6      2        16\n",
       "2     3  Calling My Phone  Lil Tjay Featuring 6LACK       -      3         1\n",
       "3     4   Blinding Lights                The Weeknd       3      1        63\n",
       "4     5                Up                   Cardi B       2      2         2"
      ]
     },
     "execution_count": 415,
     "metadata": {},
     "output_type": "execute_result"
    }
   ],
   "source": [
    "# each list becomes a column\n",
    "top100 = pd.DataFrame({\"rank\":rank,\n",
    "                       \"song\":song,\n",
    "                       \"artist\":artist,\n",
    "                       \"lastweek\":lastweek,\n",
    "                       \"peak\": peak,\n",
    "                       \"oncharts\":oncharts\n",
    "                      })\n",
    "\n",
    "top100.head()"
   ]
  },
  {
   "cell_type": "markdown",
   "metadata": {},
   "source": [
    "## Wikipedia top 100"
   ]
  },
  {
   "cell_type": "code",
   "execution_count": 416,
   "metadata": {},
   "outputs": [],
   "source": [
    "url1= \"https://en.wikipedia.org/wiki/Triple_J_Hottest_100\"\n",
    "response1 = requests.get(url1)\n",
    "response1.status_code # 200 status code means OK!\n",
    "soupe = BeautifulSoup(response1.content, \"html.parser\")"
   ]
  },
  {
   "cell_type": "code",
   "execution_count": 524,
   "metadata": {},
   "outputs": [
    {
     "data": {
      "text/plain": [
       "['Joy Division – \"Love Will Tear Us Apart\" (1980)',\n",
       " 'Hunters & Collectors – \"Throw Your Arms Around Me\" (1985)',\n",
       " 'The The – \"Uncertain Smile\" (1983)',\n",
       " 'The Jam – \"That\\'s Entertainment\" (1980)',\n",
       " 'New Order – \"Blue Monday\" (1983)',\n",
       " 'Dead Kennedys – \"Holiday in Cambodia\" (1980)',\n",
       " 'The Smiths – \"How Soon Is Now?\" (1984)',\n",
       " 'Hunters & Collectors – \"Talking to a Stranger\" (1982)',\n",
       " 'The Sugarcubes – \"Birthday\" (1987)',\n",
       " 'The Cure – \"A Forest\" (1980)',\n",
       " 'Joy Division – \"Love Will Tear Us Apart\" (1980)',\n",
       " 'Hunters & Collectors – \"Throw Your Arms Around Me\" (1985)',\n",
       " 'The Smiths – \"How Soon Is Now?\" (1984)',\n",
       " 'The The – \"Uncertain Smile\" (1983)',\n",
       " 'New Order – \"Blue Monday\" (1983)',\n",
       " 'The Stone Roses – \"Fools Gold\" (1989)',\n",
       " 'The Smiths – \"This Charming Man\" (1983)',\n",
       " 'The B-52\\'s – \"Rock Lobster\" (1979)',\n",
       " 'R.E.M. – \"It\\'s the End of the World as We Know It (And I Feel Fine)\" (1987)',\n",
       " 'The Jam – \"That\\'s Entertainment\" (1980)',\n",
       " 'Nirvana – \"Smells Like Teen Spirit\" (1991)',\n",
       " 'Joy Division – \"Love Will Tear Us Apart\" (1980)',\n",
       " 'Nirvana – \"Lithium\" (1991)',\n",
       " 'Hunters & Collectors – \"Throw Your Arms Around Me\" (1985)',\n",
       " 'Andy Prieboy – \"Tomorrow Wendy\" (1990)',\n",
       " 'The Smiths – \"How Soon Is Now?\" (1984)',\n",
       " 'The Stone Roses – \"Fools Gold\" (1989)',\n",
       " 'The Cure – \"A Forest\" (1980)',\n",
       " 'Violent Femmes – \"Blister in the Sun\" (1982)',\n",
       " 'New Order – \"Blue Monday\" (1983)',\n",
       " 'Denis Leary – \"Asshole\"',\n",
       " 'Radiohead – \"Creep\"',\n",
       " 'The Cranberries – \"Linger\"',\n",
       " 'Blind Melon – \"No Rain\"',\n",
       " 'The Breeders – \"Cannonball\"',\n",
       " 'Rage Against the Machine – \"Killing in the Name\"',\n",
       " 'U2 – \"Lemon\"',\n",
       " 'Pearl Jam – \"Go\"',\n",
       " 'The Cruel Sea – \"The Honeymoon Is Over\"',\n",
       " 'Atomic Swing – \"Stone Me Into the Groove\"',\n",
       " 'The Cranberries – \"Zombie\"',\n",
       " 'Nine Inch Nails – \"Closer\"',\n",
       " 'The Offspring – \"Self Esteem\"',\n",
       " 'The Offspring – \"Come Out and Play\"',\n",
       " 'Silverchair – \"Tomorrow\"',\n",
       " 'Veruca Salt – \"Seether\"',\n",
       " 'Nirvana – \"About a Girl\"',\n",
       " 'Max Sharam – \"Coma\"',\n",
       " 'Tom Jones – \"If I Only Knew\"',\n",
       " 'Severed Heads – \"Dead Eyes Opened\"',\n",
       " 'Oasis – \"Wonderwall\"',\n",
       " 'The Smashing Pumpkins – \"Bullet with Butterfly Wings\"',\n",
       " 'Coolio – \"Gangsta\\'s Paradise\"',\n",
       " 'The Presidents of the United States of America – \"Kitty\"',\n",
       " 'Björk – \"It\\'s Oh So Quiet\"',\n",
       " 'Everclear – \"Heroin Girl\"',\n",
       " 'Custard – \"Apartment\"',\n",
       " 'Nick Cave and the Bad Seeds and Kylie Minogue – \"Where the Wild Roses Grow\"',\n",
       " 'TISM – \"(He\\'ll Never Be An) Ol\\' Man River\"',\n",
       " 'TISM – \"Greg! The Stop Sign!!\"',\n",
       " 'Spiderbait – \"Buy Me a Pony\"',\n",
       " 'Tool – \"Stinkfist\"',\n",
       " 'Ben Folds Five – \"Underground\"',\n",
       " 'Butthole Surfers – \"Pepper\"',\n",
       " 'Bush – \"Glycerine\"',\n",
       " 'Powderfinger – \"Pick You Up\"',\n",
       " 'The Prodigy – \"Breathe\"',\n",
       " 'Allen Ginsberg – \"Ballad of the Skeletons\"',\n",
       " 'Weezer – \"El Scorcho\"',\n",
       " 'Babybird – \"You\\'re Gorgeous\"',\n",
       " 'The Whitlams – \"No Aphrodisiac\"',\n",
       " 'Blur – \"Song 2\"',\n",
       " 'Chumbawamba – \"Tubthumping\"',\n",
       " 'The Verve – \"Bitter Sweet Symphony\"',\n",
       " 'Pauline Pantsdown – \"Back Door Man\"',\n",
       " 'Blink-182 – \"Dammit\"',\n",
       " 'Radiohead – \"Paranoid Android\"',\n",
       " 'Marilyn Manson – \"The Beautiful People\"',\n",
       " 'Radiohead – \"Karma Police\"',\n",
       " 'Jebediah – \"Leaving Home\"',\n",
       " 'The Offspring – \"Pretty Fly (For a White Guy)\"',\n",
       " 'Ben Lee – \"Cigarettes Will Kill You\"',\n",
       " 'Custard – \"Girls Like That (Don\\'t Go For Guys Like Us)\"',\n",
       " 'Hole – \"Celebrity Skin\"',\n",
       " 'KoЯn – \"Got the Life\"',\n",
       " 'Regurgitator – \"! (The Song Formerly Known As)\"',\n",
       " 'Jebediah – \"Harpoon\"',\n",
       " 'Powderfinger – \"The Day You Come\"',\n",
       " 'You Am I – \"Heavy Heart\"',\n",
       " 'The Living End – \"Save the Day\"',\n",
       " 'Nirvana – \"Smells Like Teen Spirit\" (1991)',\n",
       " 'Hunters & Collectors – \"Throw Your Arms Around Me\" (1985)',\n",
       " 'Pearl Jam – \"Alive\" (1991)',\n",
       " 'Jeff Buckley – \"Last Goodbye\" (1994)',\n",
       " 'Radiohead – \"Creep\" (1992)',\n",
       " 'Led Zeppelin – \"Stairway to Heaven\" (1971)',\n",
       " 'Metallica – \"One\" (1988)',\n",
       " 'Queen  – \"Bohemian Rhapsody\" (1975)',\n",
       " 'Metallica – \"Enter Sandman\" (1991)',\n",
       " 'Pearl Jam – \"Black\" (1991)',\n",
       " 'Powderfinger – \"These Days\"',\n",
       " 'Killing Heidi – \"Weir\"',\n",
       " 'The Tenants – \"You Shit Me to Tears\"',\n",
       " 'Fatboy Slim – \"Praise You\"',\n",
       " 'Placebo – \"Every You Every Me\"',\n",
       " 'Bloodhound Gang – \"The Bad Touch\"',\n",
       " 'Rage Against the Machine – \"Guerrilla Radio\"',\n",
       " 'Limp Bizkit – \"Nookie\"',\n",
       " 'Pearl Jam – \"Last Kiss\"',\n",
       " 'Red Hot Chili Peppers – \"Scar Tissue\"',\n",
       " 'Powderfinger – \"My Happiness\"',\n",
       " 'U2 – \"Beautiful Day\"',\n",
       " 'Powderfinger – \"My Kind of Scene\"',\n",
       " 'Wheatus – \"Teenage Dirtbag\"',\n",
       " 'Coldplay – \"Yellow\"',\n",
       " 'The Avalanches – \"Frontier Psychiatrist\"',\n",
       " 'Red Hot Chili Peppers – \"Californication\"',\n",
       " 'Foo Fighters – \"Generator\"',\n",
       " 'Paul Kelly – \"Every Fucking City\"',\n",
       " 'The Dandy Warhols – \"Bohemian Like You\"',\n",
       " 'Alex Lloyd – \"Amazing\"',\n",
       " 'Something for Kate – \"Monsters\"',\n",
       " 'System of a Down – \"Chop Suey!\"',\n",
       " 'Basement Jaxx – \"Where\\'s Your Head At\"',\n",
       " 'John Butler Trio – \"Betterman\"',\n",
       " 'Alien Ant Farm – \"Smooth Criminal\"',\n",
       " 'Weezer – \"Island in the Sun\"',\n",
       " 'The Avalanches – \"Since I Left You\"',\n",
       " 'Gorillaz featuring Del tha Funkee Homosapien – \"Clint Eastwood\"',\n",
       " 'Cake – \"Short Skirt/Long Jacket\"',\n",
       " 'Queens of the Stone Age – \"No One Knows\"',\n",
       " 'Grinspoon – \"Chemical Heart\"',\n",
       " 'The Waifs – \"London Still\"',\n",
       " '1200 Techniques – \"Karma\"',\n",
       " 'The Vines – \"Get Free\"',\n",
       " 'Machine Gun Fellatio – \"Pussytown\"',\n",
       " 'Eminem – \"Lose Yourself\"',\n",
       " 'Machine Gun Fellatio – \"Rollercoaster\"',\n",
       " 'Red Hot Chili Peppers – \"By the Way\"',\n",
       " 'Silverchair – \"The Greatest View\"',\n",
       " 'Jet – \"Are You Gonna Be My Girl\"',\n",
       " 'OutKast – \"Hey Ya!\"',\n",
       " 'The White Stripes – \"Seven Nation Army\"',\n",
       " 'Powderfinger – \"(Baby I\\'ve Got You) On My Mind\"',\n",
       " 'Coldplay – \"Clocks\" (Röyksopp Remix)',\n",
       " 'The Cat Empire – \"Hello\"',\n",
       " 'Powderfinger – \"Sunsets\"',\n",
       " 'John Butler Trio – \"Zebra\"',\n",
       " 'Hilltop Hoods – \"The Nosebleed Section\"',\n",
       " 'Powderfinger – \"Love Your Way\"',\n",
       " 'Franz Ferdinand – \"Take Me Out\"',\n",
       " 'Missy Higgins – \"Scar\"',\n",
       " 'Eskimo Joe – \"From the Sea\"',\n",
       " 'The Killers – \"Somebody Told Me\"',\n",
       " 'Spiderbait – \"Black Betty\"',\n",
       " 'Missy Higgins – \"Ten Days\"',\n",
       " 'John Butler Trio – \"Something\\'s Gotta Give\"',\n",
       " 'Little Birdy – \"Beautiful to Me\"',\n",
       " 'Powderfinger – \"Bless My Soul\"',\n",
       " 'The White Stripes – \"Jolene\" (Live)',\n",
       " 'Bernard Fanning – \"Wish You Well\"',\n",
       " 'Ben Lee – \"Catch My Disease\"',\n",
       " 'Gorillaz featuring De La Soul – \"Feel Good Inc.\"',\n",
       " 'Foo Fighters – \"Best of You\"',\n",
       " 'Gorillaz featuring Shaun Ryder – \"Dare\"',\n",
       " 'Wolfmother – \"Mind\\'s Eye\"',\n",
       " 'The White Stripes – \"My Doorbell\"',\n",
       " 'End of Fashion – \"O Yeah\"',\n",
       " 'Wolfmother – \"Joker & the Thief\"',\n",
       " 'Franz Ferdinand – \"Do You Want To\"',\n",
       " 'Augie March – \"One Crowded Hour\"',\n",
       " 'Eskimo Joe – \"Black Fingernails, Red Wine\"',\n",
       " 'Hilltop Hoods – \"The Hard Road\"',\n",
       " 'The Killers – \"When You Were Young\"',\n",
       " 'Scissor Sisters – \"I Don\\'t Feel Like Dancin\\'\"',\n",
       " 'Gnarls Barkley – \"Crazy\"',\n",
       " 'Snow Patrol – \"Chasing Cars\"',\n",
       " 'Gotye – \"Hearts a Mess\"',\n",
       " 'Muse – \"Starlight\"',\n",
       " 'The Grates – \"19-20-20\"',\n",
       " 'Muse – \"Knights of Cydonia\"',\n",
       " 'Silverchair – \"Straight Lines\"',\n",
       " 'Kings of Leon – \"On Call\"',\n",
       " 'John Butler Trio – \"Better Than\"',\n",
       " 'Faker – \"This Heart Attack\"',\n",
       " 'Foo Fighters – \"The Pretender\"',\n",
       " 'Daft Punk – \"Harder, Better, Faster, Stronger (Alive 2007)\"',\n",
       " 'Cold War Kids – \"Hang Me Up to Dry\"',\n",
       " 'Soko – \"I\\'ll Kill Her\"',\n",
       " 'The Panics – \"Don\\'t Fight It\"',\n",
       " 'Kings of Leon – \"Sex on Fire\"',\n",
       " 'MGMT – \"Electric Feel\"',\n",
       " 'Kings of Leon – \"Use Somebody\"',\n",
       " 'Empire of the Sun – \"Walking on a Dream\"',\n",
       " 'MGMT – \"Kids\"',\n",
       " 'The Presets – \"Talk Like That\"',\n",
       " 'Pez featuring 360 and Hailey Cramer – \"The Festival Song\"',\n",
       " 'The Presets – \"This Boy\\'s in Love\"',\n",
       " 'The Ting Tings – \"That\\'s Not My Name\"',\n",
       " 'Drapht – \"Jimmy Recard\"',\n",
       " 'Nirvana – \"Smells Like Teen Spirit\" (1991)',\n",
       " 'Rage Against the Machine – \"Killing in the Name\" (1992)',\n",
       " 'Jeff Buckley – \"Hallelujah\" (1994)',\n",
       " 'Joy Division – \"Love Will Tear Us Apart\" (1980)',\n",
       " 'Radiohead – \"Paranoid Android\" (1997)',\n",
       " 'Queen – \"Bohemian Rhapsody\" (1975)',\n",
       " 'Jeff Buckley – \"Last Goodbye\" (1994)',\n",
       " 'Red Hot Chili Peppers – \"Under the Bridge\" (1991)',\n",
       " 'Foo Fighters – \"Everlong\" (1997)',\n",
       " 'Led Zeppelin – \"Stairway to Heaven\" (1971)',\n",
       " 'Mumford & Sons – \"Little Lion Man\"',\n",
       " 'Art vs. Science – \"Parlez Vous Francais?\"',\n",
       " 'Hilltop Hoods – \"Chase That Feeling\"',\n",
       " 'Phoenix – \"Lisztomania\"',\n",
       " 'Bluejuice – \"Broken Leg\"',\n",
       " 'La Roux – \"Bulletproof\"',\n",
       " 'Lisa Mitchell – \"Coin Laundry\"',\n",
       " 'Lily Allen – \"Not Fair\"',\n",
       " 'Muse – \"Uprising\"',\n",
       " 'Florence and the Machine – \"Dog Days Are Over\"',\n",
       " 'Angus & Julia Stone – \"Big Jet Plane\"',\n",
       " 'Little Red – \"Rock It\"',\n",
       " 'Ou Est le Swimming Pool – \"Dance the Way I Feel\"',\n",
       " 'Birds of Tokyo – \"Plans\"',\n",
       " 'Boy & Bear – \"Fall at Your Feet\"',\n",
       " 'Adrian Lux – \"Teenage Crime\"',\n",
       " 'Cee-Lo Green – \"Fuck You\"',\n",
       " 'The Wombats – \"Tokyo (Vampires & Wolves)\"',\n",
       " 'Art vs. Science – \"Magic Fountain\"',\n",
       " 'Mark Ronson & The Business Intl. featuring Boy George and Andrew Wyatt – \"Somebody to Love Me\"',\n",
       " 'Powderfinger – Odyssey Number Five (2000)',\n",
       " 'Silverchair – Frogstomp (1995)',\n",
       " 'AC/DC – Back in Black (1980)',\n",
       " 'The Living End – The Living End (1999)',\n",
       " 'INXS – Kick (1987)',\n",
       " 'Powderfinger – Internationalist (1998)',\n",
       " 'The Presets – Apocalypso (2008)',\n",
       " 'Wolfmother – Wolfmother (2005)',\n",
       " 'The Avalanches – Since I Left You (2000)',\n",
       " 'Regurgitator – Unit (1997)',\n",
       " 'Gotye featuring Kimbra – \"Somebody That I Used to Know\"',\n",
       " 'The Black Keys – \"Lonely Boy\"',\n",
       " 'Matt Corby – \"Brother\"',\n",
       " 'Boy & Bear – \"Feeding Line\"',\n",
       " 'M83 – \"Midnight City\"',\n",
       " 'Lana Del Rey – \"Video Games\"',\n",
       " 'San Cisco – \"Awkward\"',\n",
       " '360 featuring Gossling – \"Boys like You\"',\n",
       " 'The Jezabels – \"Endless Summer\"',\n",
       " 'Hilltop Hoods Featuring Sia – \"I Love It\"',\n",
       " 'Macklemore and Ryan Lewis featuring Wanz – \"Thrift Shop\"',\n",
       " 'Of Monsters and Men – \"Little Talks\"',\n",
       " 'Alt-J – \"Breezeblocks\"',\n",
       " 'Flume – \"Holdin On\"',\n",
       " 'Mumford & Sons – \"I Will Wait\"',\n",
       " 'Major Lazer featuring Amber Coffman – \"Get Free\"',\n",
       " 'Tame Impala – \"Elephant\"',\n",
       " 'Frank Ocean – \"Lost\"',\n",
       " 'Tame Impala – \"Feels Like We Only Go Backwards\"',\n",
       " 'The Rubens – \"My Gun\"',\n",
       " 'Oasis – \"Wonderwall\" (1995)',\n",
       " 'The White Stripes – \"Seven Nation Army\" (2003)',\n",
       " 'Jeff Buckley – \"Last Goodbye\" (1994)',\n",
       " 'Hilltop Hoods – \"The Nosebleed Section\" (2003)',\n",
       " 'The Verve – \"Bitter Sweet Symphony\" (1997)',\n",
       " 'Foo Fighters – \"Everlong\" (1997)',\n",
       " 'The Killers – \"Mr. Brightside\" (2004)',\n",
       " 'Powderfinger – \"These Days\" (2000)',\n",
       " 'Gotye featuring Kimbra – \"Somebody That I Used to Know\" (2011)',\n",
       " 'Powderfinger – \"My Happiness\" (2000)',\n",
       " 'Vance Joy – \"Riptide\"',\n",
       " 'Lorde – \"Royals\"',\n",
       " 'Daft Punk featuring Pharrell – \"Get Lucky\"',\n",
       " 'Arctic Monkeys – \"Do I Wanna Know?\"',\n",
       " 'Flume & Chet Faker – \"Drop the Game\"',\n",
       " 'Arctic Monkeys – \"Why\\'d You Only Call Me When You\\'re High?\"',\n",
       " 'Lana Del Rey – \"Young And Beautiful\"',\n",
       " 'Matt Corby – \"Resolution\"',\n",
       " 'The Preatures – \"Is This How You Feel?\"',\n",
       " 'London Grammar – \"Strong\"',\n",
       " 'Chet Faker – \"Talk Is Cheap\"',\n",
       " 'Peking Duk featuring Nicole Millar – \"High\"',\n",
       " 'Hilltop Hoods – \"Cosby Sweater\"',\n",
       " 'Milky Chance – \"Stolen Dance\"',\n",
       " 'Peking Duk featuring Safia – \"Take Me Over\"',\n",
       " 'Mark Ronson featuring Bruno Mars – \"Uptown Funk\"',\n",
       " 'Chet Faker – \"Gold\"',\n",
       " 'Chet Faker – \"1998\"',\n",
       " 'Sia – \"Chandelier\"',\n",
       " 'Ásgeir – \"King and Cross\"',\n",
       " 'The Rubens – \"Hoops\"',\n",
       " 'Kendrick Lamar – \"King Kunta\"',\n",
       " 'Major Lazer & DJ Snake featuring MØ – \"Lean On\"',\n",
       " 'Tame Impala – \"The Less I Know the Better\"',\n",
       " 'Tame Impala – \"Let It Happen\"',\n",
       " 'Marcus Marr & Chet Faker – \"The Trouble with Us\"',\n",
       " 'Jarryd James – \"Do You Remember\"',\n",
       " 'Hermitude featuring Mataya & Young Tapz – \"The Buzz\"',\n",
       " 'The Weeknd – \"Can\\'t Feel My Face\"',\n",
       " 'Disclosure featuring Lorde – \"Magnets\"',\n",
       " 'Flume featuring Kai – \"Never Be like You\"',\n",
       " 'Amy Shark – \"Adore\"',\n",
       " 'Tash Sultana – \"Jungle\"',\n",
       " 'Hilltop Hoods featuring Montaigne and Tom Thum – \"1955\"',\n",
       " 'Childish Gambino – \"Redbone\"',\n",
       " 'DMA\\'s – \"Believe\" (\\'\"Like a Version)',\n",
       " 'Illy featuring Vera Blue – \"Papercuts\"',\n",
       " 'Flume featuring Tove Lo – \"Say It\"',\n",
       " 'Peking Duk featuring Elliphant – \"Stranger\"',\n",
       " 'The Weeknd featuring Daft Punk – \"Starboy\"',\n",
       " 'Kendrick Lamar – \"Humble\"',\n",
       " 'Gang of Youths – \"Let Me Down Easy\"',\n",
       " 'Angus & Julia Stone – \"Chateau\"',\n",
       " 'Methyl Ethel – \"Ubu\"',\n",
       " 'Gang of Youths – \"The Deepest Sighs, the Frankest Shadows\"',\n",
       " 'Lorde – \"Green Light\"',\n",
       " 'Pnau – \"Go Bang\"',\n",
       " 'Thundamentals featuring Mataya – \"Sally\"',\n",
       " 'Vance Joy – \"Lay It on Me\"',\n",
       " 'Gang of Youths – \"What Can I Do If the Fire Goes Out?\"',\n",
       " 'Ocean Alley – \"Confidence\"',\n",
       " 'Fisher – \"Losing It\"',\n",
       " 'Travis Scott – \"Sicko Mode\"',\n",
       " 'Childish Gambino – \"This Is America\"',\n",
       " 'Amy Shark – \"I Said Hi\"',\n",
       " 'Dean Lewis – \"Be Alright\"',\n",
       " 'Mallrat – \"Groceries\"',\n",
       " 'Billie Eilish – \"When the Party\\'s Over\"',\n",
       " 'Ruby Fields – \"Dinosaurs\"',\n",
       " 'Ocean Alley – \"Knees\"',\n",
       " 'Billie Eilish – \"Bad Guy\"',\n",
       " 'Flume featuring Vera Blue – \"Rushing Back\"',\n",
       " 'Mallrat – \"Charlie\"',\n",
       " 'Tones and I – \"Dance Monkey\"',\n",
       " 'Denzel Curry – \"Bulls on Parade\" (Like a Version)',\n",
       " 'G Flip – \"Drink Too Much\"',\n",
       " 'Lime Cordiale – \"Robbery\"',\n",
       " 'The Jungle Giants – \"Heavy Hearted\"',\n",
       " 'Thelma Plum – \"Better in Blak\"',\n",
       " 'Hilltop Hoods featuring Illy and Ecca Vandal – \"Exit Sign\"',\n",
       " 'Tame Impala – \"The Less I Know the Better\" (2015)',\n",
       " 'Gotye featuring Kimbra – \"Somebody That I Used to Know\" (2011)',\n",
       " 'Arctic Monkeys – \"Do I Wanna Know?\" (2013)',\n",
       " 'Violent Soho – \"Covered in Chrome\" (2013)',\n",
       " 'Rüfüs Du Sol – \"Innerbloom\" (2015)',\n",
       " 'Gang of Youths – \"Magnolia\" (2015)',\n",
       " 'Foster the People – \"Pumped Up Kicks\" (2010)',\n",
       " 'Flume featuring Kai – \"Never Be like You\" (2016)',\n",
       " 'Angus & Julia Stone – \"Big Jet Plane\" (2010)',\n",
       " 'Matt Corby – \"Brother\" (2011)',\n",
       " 'Glass Animals – \"Heat Waves\"',\n",
       " 'Spacey Jane – \"Booster Seat\"',\n",
       " 'Flume and Toro y Moi – \"The Difference\"',\n",
       " 'Ball Park Music – \"Cherub\"',\n",
       " 'Tame Impala – \"Lost in Yesterday\"',\n",
       " 'Cardi B and Megan Thee Stallion – \"WAP\"',\n",
       " 'G Flip – \"Hyperfine\"',\n",
       " 'The Jungle Giants – \"Sending Me Ur Loving\"',\n",
       " 'Hilltop Hoods – \"I\\'m Good?\"',\n",
       " 'Billie Eilish – \"Therefore I Am\"']"
      ]
     },
     "execution_count": 524,
     "metadata": {},
     "output_type": "execute_result"
    }
   ],
   "source": [
    "tops=[]\n",
    "for i in range (len(soupe.find_all(\"ol\"))):\n",
    "    top=soupe.find_all(\"ol\")[i].get_text().split(\"\\n\")\n",
    "    if len(top)==10:\n",
    "        for p in top:\n",
    "            tops.append(p)\n",
    "    else:\n",
    "        pass\n",
    "        \n",
    "tops\n",
    "      "
   ]
  },
  {
   "cell_type": "code",
   "execution_count": 534,
   "metadata": {},
   "outputs": [],
   "source": [
    "band=[]\n",
    "Song=[]\n",
    "for track in tops:\n",
    "    row=track.split(\" – \")\n",
    "    band.append(row[0])\n",
    "    \n",
    "    s=row[1].split(\"(\")\n",
    "    n=s[0].replace('\"',\"\")\n",
    "    Song.append(n)\n"
   ]
  },
  {
   "cell_type": "code",
   "execution_count": 536,
   "metadata": {},
   "outputs": [],
   "source": [
    "alltime=pd.DataFrame({ \n",
    "                      \"song\": Song,\n",
    "    \"band\":band\n",
    "    \n",
    "})"
   ]
  },
  {
   "cell_type": "code",
   "execution_count": 564,
   "metadata": {},
   "outputs": [
    {
     "data": {
      "text/html": [
       "<div>\n",
       "<style scoped>\n",
       "    .dataframe tbody tr th:only-of-type {\n",
       "        vertical-align: middle;\n",
       "    }\n",
       "\n",
       "    .dataframe tbody tr th {\n",
       "        vertical-align: top;\n",
       "    }\n",
       "\n",
       "    .dataframe thead th {\n",
       "        text-align: right;\n",
       "    }\n",
       "</style>\n",
       "<table border=\"1\" class=\"dataframe\">\n",
       "  <thead>\n",
       "    <tr style=\"text-align: right;\">\n",
       "      <th></th>\n",
       "      <th>song</th>\n",
       "      <th>band</th>\n",
       "    </tr>\n",
       "  </thead>\n",
       "  <tbody>\n",
       "    <tr>\n",
       "      <th>0</th>\n",
       "      <td>Love Will Tear Us Apart</td>\n",
       "      <td>Joy Division</td>\n",
       "    </tr>\n",
       "    <tr>\n",
       "      <th>1</th>\n",
       "      <td>Throw Your Arms Around Me</td>\n",
       "      <td>Hunters &amp; Collectors</td>\n",
       "    </tr>\n",
       "    <tr>\n",
       "      <th>2</th>\n",
       "      <td>Uncertain Smile</td>\n",
       "      <td>The The</td>\n",
       "    </tr>\n",
       "    <tr>\n",
       "      <th>3</th>\n",
       "      <td>That's Entertainment</td>\n",
       "      <td>The Jam</td>\n",
       "    </tr>\n",
       "    <tr>\n",
       "      <th>4</th>\n",
       "      <td>Blue Monday</td>\n",
       "      <td>New Order</td>\n",
       "    </tr>\n",
       "    <tr>\n",
       "      <th>...</th>\n",
       "      <td>...</td>\n",
       "      <td>...</td>\n",
       "    </tr>\n",
       "    <tr>\n",
       "      <th>355</th>\n",
       "      <td>WAP</td>\n",
       "      <td>Cardi B and Megan Thee Stallion</td>\n",
       "    </tr>\n",
       "    <tr>\n",
       "      <th>356</th>\n",
       "      <td>Hyperfine</td>\n",
       "      <td>G Flip</td>\n",
       "    </tr>\n",
       "    <tr>\n",
       "      <th>357</th>\n",
       "      <td>Sending Me Ur Loving</td>\n",
       "      <td>The Jungle Giants</td>\n",
       "    </tr>\n",
       "    <tr>\n",
       "      <th>358</th>\n",
       "      <td>I'm Good?</td>\n",
       "      <td>Hilltop Hoods</td>\n",
       "    </tr>\n",
       "    <tr>\n",
       "      <th>359</th>\n",
       "      <td>Therefore I Am</td>\n",
       "      <td>Billie Eilish</td>\n",
       "    </tr>\n",
       "  </tbody>\n",
       "</table>\n",
       "<p>360 rows × 2 columns</p>\n",
       "</div>"
      ],
      "text/plain": [
       "                           song                             band\n",
       "0      Love Will Tear Us Apart                      Joy Division\n",
       "1    Throw Your Arms Around Me              Hunters & Collectors\n",
       "2              Uncertain Smile                           The The\n",
       "3         That's Entertainment                           The Jam\n",
       "4                  Blue Monday                         New Order\n",
       "..                          ...                              ...\n",
       "355                         WAP  Cardi B and Megan Thee Stallion\n",
       "356                   Hyperfine                           G Flip\n",
       "357        Sending Me Ur Loving                The Jungle Giants\n",
       "358                   I'm Good?                    Hilltop Hoods\n",
       "359              Therefore I Am                    Billie Eilish\n",
       "\n",
       "[360 rows x 2 columns]"
      ]
     },
     "execution_count": 564,
     "metadata": {},
     "output_type": "execute_result"
    }
   ],
   "source": [
    "alltime\n"
   ]
  },
  {
   "cell_type": "markdown",
   "metadata": {},
   "source": [
    "## Recomender"
   ]
  },
  {
   "cell_type": "code",
   "execution_count": 422,
   "metadata": {},
   "outputs": [],
   "source": [
    "top100[\"song\"]=top100[\"song\"].apply(lambda x: x.lower())\n",
    "top100[\"artist\"]=top100[\"artist\"].apply(lambda x: x.lower())\n",
    "alltime[\"song\"]=alltime[\"song\"].apply(lambda x: x.lower())\n",
    "alltime[\"band\"]=alltime[\"band\"].apply(lambda x: x.lower())\n",
    "\n",
    "#top100.drop([\"rank\",\"lastweek\",\"peak\",\"oncharts\"],axis=1,inplace=True)\n",
    "\n"
   ]
  },
  {
   "cell_type": "code",
   "execution_count": 344,
   "metadata": {},
   "outputs": [
    {
     "data": {
      "text/plain": [
       "['thethe', 'thethe', 'thesmiths']"
      ]
     },
     "execution_count": 344,
     "metadata": {},
     "output_type": "execute_result"
    }
   ],
   "source": [
    "difflib.get_close_matches('the thw', alltime[\"band\"])"
   ]
  },
  {
   "cell_type": "markdown",
   "metadata": {},
   "source": [
    "## Spotify API"
   ]
  },
  {
   "cell_type": "code",
   "execution_count": null,
   "metadata": {},
   "outputs": [],
   "source": [
    "#!pip install spotipy"
   ]
  },
  {
   "cell_type": "code",
   "execution_count": 565,
   "metadata": {},
   "outputs": [],
   "source": [
    "\n",
    "import sys\n",
    "#sys.path.insert(1, '/content/drive/MyDrive/credentials/')\n",
    "from credentials import *\n",
    "\n",
    "import spotipy\n",
    "import json\n",
    "from spotipy.oauth2 import SpotifyClientCredentials\n",
    "\n",
    "\n",
    "#Initialize SpotiPy with user credentias\n",
    "sp = spotipy.Spotify(auth_manager=SpotifyClientCredentials(client_id=ID,\n",
    "                                                           client_secret=Secret))"
   ]
  },
  {
   "cell_type": "code",
   "execution_count": 566,
   "metadata": {},
   "outputs": [],
   "source": [
    "playlist = sp.user_playlist_tracks(\"spotify\", \"7htu5ftbLBRFAwiuHVcUAg\")"
   ]
  },
  {
   "cell_type": "code",
   "execution_count": 568,
   "metadata": {},
   "outputs": [],
   "source": [
    "def get_playlist_tracks(username, playlist_id):\n",
    "    results = sp.user_playlist_tracks(username,playlist_id)\n",
    "    tracks = results['items']\n",
    "    while results['next']:\n",
    "        results = sp.next(results)\n",
    "        tracks.extend(results['items'])\n",
    "    return tracks\n",
    "\n",
    "\n"
   ]
  },
  {
   "cell_type": "raw",
   "metadata": {},
   "source": [
    "tracks=get_playlist_tracks(\"spotify\", \"7htu5ftbLBRFAwiuHVcUAg\")"
   ]
  },
  {
   "cell_type": "code",
   "execution_count": 80,
   "metadata": {},
   "outputs": [],
   "source": [
    "def features(tracks):\n",
    "    song_features = {}\n",
    "    for i in range(len(tracks)):\n",
    "        song_features[tracks[i]['track']['name']] = sp.audio_features(tracks[i][\"track\"][\"uri\"])\n",
    "    return song_features"
   ]
  },
  {
   "cell_type": "code",
   "execution_count": 84,
   "metadata": {},
   "outputs": [],
   "source": [
    "Features=features(tracks)"
   ]
  },
  {
   "cell_type": "code",
   "execution_count": 88,
   "metadata": {},
   "outputs": [],
   "source": [
    "import pandas as pd"
   ]
  },
  {
   "cell_type": "code",
   "execution_count": 571,
   "metadata": {},
   "outputs": [],
   "source": [
    "\n",
    "songsF=pd.DataFrame(Features.values())"
   ]
  },
  {
   "cell_type": "code",
   "execution_count": 572,
   "metadata": {},
   "outputs": [],
   "source": [
    "songsF[\"names\"]=Features.keys()"
   ]
  },
  {
   "cell_type": "code",
   "execution_count": 573,
   "metadata": {},
   "outputs": [
    {
     "data": {
      "text/html": [
       "<div>\n",
       "<style scoped>\n",
       "    .dataframe tbody tr th:only-of-type {\n",
       "        vertical-align: middle;\n",
       "    }\n",
       "\n",
       "    .dataframe tbody tr th {\n",
       "        vertical-align: top;\n",
       "    }\n",
       "\n",
       "    .dataframe thead th {\n",
       "        text-align: right;\n",
       "    }\n",
       "</style>\n",
       "<table border=\"1\" class=\"dataframe\">\n",
       "  <thead>\n",
       "    <tr style=\"text-align: right;\">\n",
       "      <th></th>\n",
       "      <th>names</th>\n",
       "      <th>0</th>\n",
       "    </tr>\n",
       "  </thead>\n",
       "  <tbody>\n",
       "    <tr>\n",
       "      <th>0</th>\n",
       "      <td>Ribs</td>\n",
       "      <td>{'danceability': 0.511, 'energy': 0.472, 'key'...</td>\n",
       "    </tr>\n",
       "    <tr>\n",
       "      <th>1</th>\n",
       "      <td>Bags</td>\n",
       "      <td>{'danceability': 0.742, 'energy': 0.546, 'key'...</td>\n",
       "    </tr>\n",
       "    <tr>\n",
       "      <th>2</th>\n",
       "      <td>The Man Who Can't Be Moved</td>\n",
       "      <td>{'danceability': 0.609, 'energy': 0.629, 'key'...</td>\n",
       "    </tr>\n",
       "    <tr>\n",
       "      <th>3</th>\n",
       "      <td>Rolling in the Deep</td>\n",
       "      <td>{'danceability': 0.73, 'energy': 0.77, 'key': ...</td>\n",
       "    </tr>\n",
       "    <tr>\n",
       "      <th>4</th>\n",
       "      <td>Grenade</td>\n",
       "      <td>{'danceability': 0.706, 'energy': 0.558, 'key'...</td>\n",
       "    </tr>\n",
       "    <tr>\n",
       "      <th>...</th>\n",
       "      <td>...</td>\n",
       "      <td>...</td>\n",
       "    </tr>\n",
       "    <tr>\n",
       "      <th>8642</th>\n",
       "      <td>In The City - From \"The Warriors\" Soundtrack</td>\n",
       "      <td>{'danceability': 0.468, 'energy': 0.677, 'key'...</td>\n",
       "    </tr>\n",
       "    <tr>\n",
       "      <th>8643</th>\n",
       "      <td>Dream A Little Dream</td>\n",
       "      <td>{'danceability': 0.415, 'energy': 0.339, 'key'...</td>\n",
       "    </tr>\n",
       "    <tr>\n",
       "      <th>8644</th>\n",
       "      <td>Can't Take My Eyes Off You x MAKE UP FOR EVER</td>\n",
       "      <td>{'danceability': 0.494, 'energy': 0.531, 'key'...</td>\n",
       "    </tr>\n",
       "    <tr>\n",
       "      <th>8645</th>\n",
       "      <td>Штрихи</td>\n",
       "      <td>{'danceability': 0.534, 'energy': 0.802, 'key'...</td>\n",
       "    </tr>\n",
       "    <tr>\n",
       "      <th>8646</th>\n",
       "      <td>For the Damaged Coda</td>\n",
       "      <td>{'danceability': 0.499, 'energy': 0.468, 'key'...</td>\n",
       "    </tr>\n",
       "  </tbody>\n",
       "</table>\n",
       "<p>8647 rows × 2 columns</p>\n",
       "</div>"
      ],
      "text/plain": [
       "                                              names  \\\n",
       "0                                              Ribs   \n",
       "1                                              Bags   \n",
       "2                        The Man Who Can't Be Moved   \n",
       "3                               Rolling in the Deep   \n",
       "4                                           Grenade   \n",
       "...                                             ...   \n",
       "8642   In The City - From \"The Warriors\" Soundtrack   \n",
       "8643                           Dream A Little Dream   \n",
       "8644  Can't Take My Eyes Off You x MAKE UP FOR EVER   \n",
       "8645                                         Штрихи   \n",
       "8646                           For the Damaged Coda   \n",
       "\n",
       "                                                      0  \n",
       "0     {'danceability': 0.511, 'energy': 0.472, 'key'...  \n",
       "1     {'danceability': 0.742, 'energy': 0.546, 'key'...  \n",
       "2     {'danceability': 0.609, 'energy': 0.629, 'key'...  \n",
       "3     {'danceability': 0.73, 'energy': 0.77, 'key': ...  \n",
       "4     {'danceability': 0.706, 'energy': 0.558, 'key'...  \n",
       "...                                                 ...  \n",
       "8642  {'danceability': 0.468, 'energy': 0.677, 'key'...  \n",
       "8643  {'danceability': 0.415, 'energy': 0.339, 'key'...  \n",
       "8644  {'danceability': 0.494, 'energy': 0.531, 'key'...  \n",
       "8645  {'danceability': 0.534, 'energy': 0.802, 'key'...  \n",
       "8646  {'danceability': 0.499, 'energy': 0.468, 'key'...  \n",
       "\n",
       "[8647 rows x 2 columns]"
      ]
     },
     "execution_count": 573,
     "metadata": {},
     "output_type": "execute_result"
    }
   ],
   "source": [
    "songsF[[\"names\",0]]"
   ]
  },
  {
   "cell_type": "code",
   "execution_count": 125,
   "metadata": {},
   "outputs": [],
   "source": [
    "test=['danceability', 'energy', 'loudness', 'mode', 'speechiness', 'acousticness', 'instrumentalness', 'liveness', 'valence', 'tempo','duration_ms']"
   ]
  },
  {
   "cell_type": "code",
   "execution_count": 128,
   "metadata": {},
   "outputs": [],
   "source": [
    "danceability=[]\n",
    "energy=[]\n",
    "loudness=[]\n",
    "mode=[]\n",
    "speechiness=[]\n",
    "acousticness=[]\n",
    "instrumentalness=[]\n",
    "liveness=[]\n",
    "valence=[]\n",
    "tempo=[]\n",
    "duration_ms=[]"
   ]
  },
  {
   "cell_type": "code",
   "execution_count": 139,
   "metadata": {},
   "outputs": [],
   "source": [
    "for f in Features.keys():\n",
    "    danceability.append(Features[f][0][\"danceability\"])\n",
    "    energy.append(Features[f][0][\"energy\"])\n",
    "    loudness.append(Features[f][0][\"loudness\"])\n",
    "    mode.append(Features[f][0][\"mode\"])\n",
    "    speechiness.append(Features[f][0][\"speechiness\"])\n",
    "    acousticness.append(Features[f][0][\"acousticness\"])\n",
    "    instrumentalness.append(Features[f][0][\"instrumentalness\"])\n",
    "    liveness.append(Features[f][0][\"liveness\"])\n",
    "    valence.append(Features[f][0][\"valence\"])\n",
    "    tempo.append(Features[f][0][\"tempo\"])\n",
    "    duration_ms.append(Features[f][0][\"duration_ms\"])\n",
    "\n",
    "    \n",
    "    "
   ]
  },
  {
   "cell_type": "code",
   "execution_count": 148,
   "metadata": {},
   "outputs": [],
   "source": [
    "names=list(Features.keys())\n"
   ]
  },
  {
   "cell_type": "code",
   "execution_count": 577,
   "metadata": {},
   "outputs": [],
   "source": [
    "Songf=pd.DataFrame({\"song\":names,\"energy\":energy,\n",
    "\"loudness\":loudness,\n",
    "\"mode\":mode,\n",
    "\"speechiness\":speechiness,\n",
    "\"acousticness\":acousticness,\n",
    "\"instrumentalness\":instrumentalness,\n",
    "\"liveness\":liveness,\n",
    "\"valence\":valence,\n",
    "\"tempo\":tempo,\n",
    "\"duration_ms\":duration_ms                   \n",
    "                   \n",
    "                   }\n",
    "                  )"
   ]
  },
  {
   "cell_type": "markdown",
   "metadata": {},
   "source": [
    "## clustering"
   ]
  },
  {
   "cell_type": "code",
   "execution_count": 575,
   "metadata": {},
   "outputs": [],
   "source": [
    "from sklearn.preprocessing import StandardScaler\n",
    "from sklearn.cluster import KMeans\n",
    "from sklearn.metrics import silhouette_score"
   ]
  },
  {
   "cell_type": "code",
   "execution_count": 578,
   "metadata": {},
   "outputs": [],
   "source": [
    "Songf.set_index(\"song\",inplace=True)"
   ]
  },
  {
   "cell_type": "code",
   "execution_count": 579,
   "metadata": {},
   "outputs": [],
   "source": [
    "X_prep = StandardScaler().fit_transform(Songf)"
   ]
  },
  {
   "cell_type": "code",
   "execution_count": 580,
   "metadata": {},
   "outputs": [
    {
     "data": {
      "text/plain": [
       "KMeans(n_clusters=12, random_state=1234)"
      ]
     },
     "execution_count": 580,
     "metadata": {},
     "output_type": "execute_result"
    }
   ],
   "source": [
    "kmeans = KMeans(n_clusters=12, random_state=1234)\n",
    "kmeans.fit(X_prep)"
   ]
  },
  {
   "cell_type": "code",
   "execution_count": 581,
   "metadata": {},
   "outputs": [
    {
     "data": {
      "text/plain": [
       "0      442\n",
       "1      855\n",
       "2      369\n",
       "3      999\n",
       "4      651\n",
       "5     1324\n",
       "6       84\n",
       "7      417\n",
       "8      937\n",
       "9      271\n",
       "10    1318\n",
       "11     980\n",
       "dtype: int64"
      ]
     },
     "execution_count": 581,
     "metadata": {},
     "output_type": "execute_result"
    }
   ],
   "source": [
    "clusters = kmeans.predict(X_prep)\n",
    "pd.Series(clusters).value_counts().sort_index()"
   ]
  },
  {
   "cell_type": "code",
   "execution_count": 582,
   "metadata": {},
   "outputs": [
    {
     "data": {
      "text/plain": [
       "Text(0.5, 1.0, 'Elbow Method showing the optimal k')"
      ]
     },
     "execution_count": 582,
     "metadata": {},
     "output_type": "execute_result"
    },
    {
     "data": {
      "image/png": "[encoded data removed]",
      "text/plain": [
       "<Figure size 1152x576 with 1 Axes>"
      ]
     },
     "metadata": {
      "needs_background": "light"
     },
     "output_type": "display_data"
    }
   ],
   "source": [
    "K = range(2, 20)\n",
    "inertia = []\n",
    "\n",
    "for k in K:\n",
    "    kmeans = KMeans(n_clusters=k,\n",
    "                    random_state=1234)\n",
    "    kmeans.fit(X_prep)\n",
    "    inertia.append(kmeans.inertia_)\n",
    "\n",
    "import numpy as np\n",
    "import matplotlib.pyplot as plt\n",
    "%matplotlib inline\n",
    "\n",
    "plt.figure(figsize=(16,8))\n",
    "plt.plot(K, inertia, 'bx-')\n",
    "plt.xlabel('k')\n",
    "plt.ylabel('inertia')\n",
    "plt.xticks(np.arange(min(K), max(K)+1, 1.0))\n",
    "plt.title('Elbow Method showing the optimal k')"
   ]
  },
  {
   "cell_type": "code",
   "execution_count": 169,
   "metadata": {},
   "outputs": [
    {
     "data": {
      "text/plain": [
       "Text(0.5, 1.0, 'Silhouette Method showing the optimal k')"
      ]
     },
     "execution_count": 169,
     "metadata": {},
     "output_type": "execute_result"
    },
    {
     "data": {
      "image/png": "[encoded data removed]",
      "text/plain": [
       "<Figure size 1152x576 with 1 Axes>"
      ]
     },
     "metadata": {
      "needs_background": "light"
     },
     "output_type": "display_data"
    }
   ],
   "source": [
    "K = range(2, 20)\n",
    "silhouette = []\n",
    "\n",
    "for k in K:\n",
    "    kmeans = KMeans(n_clusters=k,\n",
    "                    random_state=1234)\n",
    "    kmeans.fit(X_prep)\n",
    "    silhouette.append(silhouette_score(X_prep, kmeans.predict(X_prep)))\n",
    "\n",
    "\n",
    "plt.figure(figsize=(16,8))\n",
    "plt.plot(K, silhouette, 'bx-')\n",
    "plt.xlabel('k')\n",
    "plt.ylabel('silhouette score')\n",
    "plt.xticks(np.arange(min(K), max(K)+1, 1.0))\n",
    "plt.title('Silhouette Method showing the optimal k')"
   ]
  },
  {
   "cell_type": "markdown",
   "metadata": {},
   "source": [
    "## Kaggle dataset"
   ]
  },
  {
   "cell_type": "code",
   "execution_count": 658,
   "metadata": {},
   "outputs": [],
   "source": [
    "kaggel=pd.read_csv(\"data.csv\")"
   ]
  },
  {
   "cell_type": "code",
   "execution_count": 661,
   "metadata": {},
   "outputs": [
    {
     "name": "stdout",
     "output_type": "stream",
     "text": [
      "<class 'pandas.core.frame.DataFrame'>\n",
      "RangeIndex: 174389 entries, 0 to 174388\n",
      "Data columns (total 10 columns):\n",
      " #   Column            Non-Null Count   Dtype  \n",
      "---  ------            --------------   -----  \n",
      " 0   acousticness      174389 non-null  float64\n",
      " 1   danceability      174389 non-null  float64\n",
      " 2   energy            174389 non-null  float64\n",
      " 3   id                174389 non-null  object \n",
      " 4   instrumentalness  174389 non-null  float64\n",
      " 5   liveness          174389 non-null  float64\n",
      " 6   loudness          174389 non-null  float64\n",
      " 7   speechiness       174389 non-null  float64\n",
      " 8   tempo             174389 non-null  float64\n",
      " 9   valence           174389 non-null  float64\n",
      "dtypes: float64(9), object(1)\n",
      "memory usage: 13.3+ MB\n"
     ]
    }
   ],
   "source": [
    "kaggel.info()"
   ]
  },
  {
   "cell_type": "code",
   "execution_count": 660,
   "metadata": {},
   "outputs": [],
   "source": [
    "kaggel.drop(['explicit','key','mode', 'name','popularity','release_date', 'year','artists','duration_ms'],axis=1, inplace=True)"
   ]
  },
  {
   "cell_type": "code",
   "execution_count": 662,
   "metadata": {},
   "outputs": [],
   "source": [
    "kaggel.set_index(\"id\",inplace=True)"
   ]
  },
  {
   "cell_type": "code",
   "execution_count": 184,
   "metadata": {},
   "outputs": [],
   "source": [
    "from sklearn.preprocessing import StandardScaler\n",
    "from sklearn.cluster import KMeans\n",
    "from sklearn.metrics import silhouette_score"
   ]
  },
  {
   "cell_type": "code",
   "execution_count": 663,
   "metadata": {},
   "outputs": [],
   "source": [
    "scaler_x = StandardScaler().fit(kaggel)\n",
    "kaggel_scaled=scaler_x.transform(kaggel)"
   ]
  },
  {
   "cell_type": "code",
   "execution_count": 664,
   "metadata": {},
   "outputs": [
    {
     "data": {
      "text/plain": [
       "KMeans(n_clusters=26, random_state=1234)"
      ]
     },
     "execution_count": 664,
     "metadata": {},
     "output_type": "execute_result"
    }
   ],
   "source": [
    "kmeans = KMeans(n_clusters=26, random_state=1234)\n",
    "kmeans.fit(kaggel_scaled)\n"
   ]
  },
  {
   "cell_type": "code",
   "execution_count": 665,
   "metadata": {},
   "outputs": [
    {
     "data": {
      "text/plain": [
       "0      9823\n",
       "1     10613\n",
       "2      6944\n",
       "3      9851\n",
       "4      6231\n",
       "5      8760\n",
       "6      9546\n",
       "7      8880\n",
       "8      4394\n",
       "9      6741\n",
       "10     8183\n",
       "11     8929\n",
       "12     4393\n",
       "13      918\n",
       "14     7941\n",
       "15     5509\n",
       "16     5707\n",
       "17     7876\n",
       "18     4757\n",
       "19     2813\n",
       "20     6207\n",
       "21     7598\n",
       "22     5014\n",
       "23     6124\n",
       "24     6648\n",
       "25     3989\n",
       "dtype: int64"
      ]
     },
     "execution_count": 665,
     "metadata": {},
     "output_type": "execute_result"
    }
   ],
   "source": [
    "clusters = kmeans.predict(kaggel_scaled)\n",
    "pd.Series(clusters).value_counts().sort_index()"
   ]
  },
  {
   "cell_type": "code",
   "execution_count": 666,
   "metadata": {},
   "outputs": [],
   "source": [
    "c=pd.DataFrame(clusters)"
   ]
  },
  {
   "cell_type": "code",
   "execution_count": 667,
   "metadata": {},
   "outputs": [],
   "source": [
    "c.index=kaggel.index"
   ]
  },
  {
   "cell_type": "code",
   "execution_count": 668,
   "metadata": {},
   "outputs": [
    {
     "data": {
      "text/html": [
       "<div>\n",
       "<style scoped>\n",
       "    .dataframe tbody tr th:only-of-type {\n",
       "        vertical-align: middle;\n",
       "    }\n",
       "\n",
       "    .dataframe tbody tr th {\n",
       "        vertical-align: top;\n",
       "    }\n",
       "\n",
       "    .dataframe thead th {\n",
       "        text-align: right;\n",
       "    }\n",
       "</style>\n",
       "<table border=\"1\" class=\"dataframe\">\n",
       "  <thead>\n",
       "    <tr style=\"text-align: right;\">\n",
       "      <th></th>\n",
       "      <th>acousticness</th>\n",
       "      <th>danceability</th>\n",
       "      <th>energy</th>\n",
       "      <th>instrumentalness</th>\n",
       "      <th>liveness</th>\n",
       "      <th>loudness</th>\n",
       "      <th>speechiness</th>\n",
       "      <th>tempo</th>\n",
       "      <th>valence</th>\n",
       "    </tr>\n",
       "    <tr>\n",
       "      <th>id</th>\n",
       "      <th></th>\n",
       "      <th></th>\n",
       "      <th></th>\n",
       "      <th></th>\n",
       "      <th></th>\n",
       "      <th></th>\n",
       "      <th></th>\n",
       "      <th></th>\n",
       "      <th></th>\n",
       "    </tr>\n",
       "  </thead>\n",
       "  <tbody>\n",
       "    <tr>\n",
       "      <th>0cS0A1fUEUd1EW3FcF8AEI</th>\n",
       "      <td>0.991000</td>\n",
       "      <td>0.598</td>\n",
       "      <td>0.224</td>\n",
       "      <td>0.000522</td>\n",
       "      <td>0.3790</td>\n",
       "      <td>-12.628</td>\n",
       "      <td>0.0936</td>\n",
       "      <td>149.976</td>\n",
       "      <td>0.6340</td>\n",
       "    </tr>\n",
       "    <tr>\n",
       "      <th>0hbkKFIJm7Z05H8Zl9w30f</th>\n",
       "      <td>0.643000</td>\n",
       "      <td>0.852</td>\n",
       "      <td>0.517</td>\n",
       "      <td>0.026400</td>\n",
       "      <td>0.0809</td>\n",
       "      <td>-7.261</td>\n",
       "      <td>0.0534</td>\n",
       "      <td>86.889</td>\n",
       "      <td>0.9500</td>\n",
       "    </tr>\n",
       "    <tr>\n",
       "      <th>11m7laMUgmOKqI3oYzuhne</th>\n",
       "      <td>0.993000</td>\n",
       "      <td>0.647</td>\n",
       "      <td>0.186</td>\n",
       "      <td>0.000018</td>\n",
       "      <td>0.5190</td>\n",
       "      <td>-12.098</td>\n",
       "      <td>0.1740</td>\n",
       "      <td>97.600</td>\n",
       "      <td>0.6890</td>\n",
       "    </tr>\n",
       "    <tr>\n",
       "      <th>19Lc5SfJJ5O1oaxY0fpwfh</th>\n",
       "      <td>0.000173</td>\n",
       "      <td>0.730</td>\n",
       "      <td>0.798</td>\n",
       "      <td>0.801000</td>\n",
       "      <td>0.1280</td>\n",
       "      <td>-7.311</td>\n",
       "      <td>0.0425</td>\n",
       "      <td>127.997</td>\n",
       "      <td>0.0422</td>\n",
       "    </tr>\n",
       "    <tr>\n",
       "      <th>2hJjbsLCytGsnAHfdsLejp</th>\n",
       "      <td>0.295000</td>\n",
       "      <td>0.704</td>\n",
       "      <td>0.707</td>\n",
       "      <td>0.000246</td>\n",
       "      <td>0.4020</td>\n",
       "      <td>-6.036</td>\n",
       "      <td>0.0768</td>\n",
       "      <td>122.076</td>\n",
       "      <td>0.2990</td>\n",
       "    </tr>\n",
       "  </tbody>\n",
       "</table>\n",
       "</div>"
      ],
      "text/plain": [
       "                        acousticness  danceability  energy  instrumentalness  \\\n",
       "id                                                                             \n",
       "0cS0A1fUEUd1EW3FcF8AEI      0.991000         0.598   0.224          0.000522   \n",
       "0hbkKFIJm7Z05H8Zl9w30f      0.643000         0.852   0.517          0.026400   \n",
       "11m7laMUgmOKqI3oYzuhne      0.993000         0.647   0.186          0.000018   \n",
       "19Lc5SfJJ5O1oaxY0fpwfh      0.000173         0.730   0.798          0.801000   \n",
       "2hJjbsLCytGsnAHfdsLejp      0.295000         0.704   0.707          0.000246   \n",
       "\n",
       "                        liveness  loudness  speechiness    tempo  valence  \n",
       "id                                                                         \n",
       "0cS0A1fUEUd1EW3FcF8AEI    0.3790   -12.628       0.0936  149.976   0.6340  \n",
       "0hbkKFIJm7Z05H8Zl9w30f    0.0809    -7.261       0.0534   86.889   0.9500  \n",
       "11m7laMUgmOKqI3oYzuhne    0.5190   -12.098       0.1740   97.600   0.6890  \n",
       "19Lc5SfJJ5O1oaxY0fpwfh    0.1280    -7.311       0.0425  127.997   0.0422  \n",
       "2hJjbsLCytGsnAHfdsLejp    0.4020    -6.036       0.0768  122.076   0.2990  "
      ]
     },
     "execution_count": 668,
     "metadata": {},
     "output_type": "execute_result"
    }
   ],
   "source": [
    "kaggel.head()"
   ]
  },
  {
   "cell_type": "code",
   "execution_count": 669,
   "metadata": {},
   "outputs": [],
   "source": [
    "kaggelcluster=pd.concat([kaggel,c],axis=1)"
   ]
  },
  {
   "cell_type": "code",
   "execution_count": 670,
   "metadata": {},
   "outputs": [],
   "source": [
    "kaggelcluster.columns=['acousticness',     'danceability',\n",
    "                 'energy', 'instrumentalness',         'liveness',\n",
    "               'loudness',      'speechiness',            'tempo',\n",
    "                'valence',    \"cluster\"]"
   ]
  },
  {
   "cell_type": "code",
   "execution_count": 671,
   "metadata": {},
   "outputs": [],
   "source": [
    "export_csv = kaggelcluster.to_csv ('export_dataframe.csv')"
   ]
  },
  {
   "cell_type": "code",
   "execution_count": 675,
   "metadata": {},
   "outputs": [
    {
     "data": {
      "text/html": [
       "<div>\n",
       "<style scoped>\n",
       "    .dataframe tbody tr th:only-of-type {\n",
       "        vertical-align: middle;\n",
       "    }\n",
       "\n",
       "    .dataframe tbody tr th {\n",
       "        vertical-align: top;\n",
       "    }\n",
       "\n",
       "    .dataframe thead th {\n",
       "        text-align: right;\n",
       "    }\n",
       "</style>\n",
       "<table border=\"1\" class=\"dataframe\">\n",
       "  <thead>\n",
       "    <tr style=\"text-align: right;\">\n",
       "      <th></th>\n",
       "      <th>acousticness</th>\n",
       "      <th>danceability</th>\n",
       "      <th>energy</th>\n",
       "      <th>instrumentalness</th>\n",
       "      <th>liveness</th>\n",
       "      <th>loudness</th>\n",
       "      <th>speechiness</th>\n",
       "      <th>tempo</th>\n",
       "      <th>valence</th>\n",
       "      <th>cluster</th>\n",
       "    </tr>\n",
       "    <tr>\n",
       "      <th>id</th>\n",
       "      <th></th>\n",
       "      <th></th>\n",
       "      <th></th>\n",
       "      <th></th>\n",
       "      <th></th>\n",
       "      <th></th>\n",
       "      <th></th>\n",
       "      <th></th>\n",
       "      <th></th>\n",
       "      <th></th>\n",
       "    </tr>\n",
       "  </thead>\n",
       "  <tbody>\n",
       "    <tr>\n",
       "      <th>0cS0A1fUEUd1EW3FcF8AEI</th>\n",
       "      <td>0.991000</td>\n",
       "      <td>0.598</td>\n",
       "      <td>0.224</td>\n",
       "      <td>0.000522</td>\n",
       "      <td>0.3790</td>\n",
       "      <td>-12.628</td>\n",
       "      <td>0.0936</td>\n",
       "      <td>149.976</td>\n",
       "      <td>0.6340</td>\n",
       "      <td>23</td>\n",
       "    </tr>\n",
       "    <tr>\n",
       "      <th>0hbkKFIJm7Z05H8Zl9w30f</th>\n",
       "      <td>0.643000</td>\n",
       "      <td>0.852</td>\n",
       "      <td>0.517</td>\n",
       "      <td>0.026400</td>\n",
       "      <td>0.0809</td>\n",
       "      <td>-7.261</td>\n",
       "      <td>0.0534</td>\n",
       "      <td>86.889</td>\n",
       "      <td>0.9500</td>\n",
       "      <td>11</td>\n",
       "    </tr>\n",
       "    <tr>\n",
       "      <th>11m7laMUgmOKqI3oYzuhne</th>\n",
       "      <td>0.993000</td>\n",
       "      <td>0.647</td>\n",
       "      <td>0.186</td>\n",
       "      <td>0.000018</td>\n",
       "      <td>0.5190</td>\n",
       "      <td>-12.098</td>\n",
       "      <td>0.1740</td>\n",
       "      <td>97.600</td>\n",
       "      <td>0.6890</td>\n",
       "      <td>25</td>\n",
       "    </tr>\n",
       "    <tr>\n",
       "      <th>19Lc5SfJJ5O1oaxY0fpwfh</th>\n",
       "      <td>0.000173</td>\n",
       "      <td>0.730</td>\n",
       "      <td>0.798</td>\n",
       "      <td>0.801000</td>\n",
       "      <td>0.1280</td>\n",
       "      <td>-7.311</td>\n",
       "      <td>0.0425</td>\n",
       "      <td>127.997</td>\n",
       "      <td>0.0422</td>\n",
       "      <td>16</td>\n",
       "    </tr>\n",
       "    <tr>\n",
       "      <th>2hJjbsLCytGsnAHfdsLejp</th>\n",
       "      <td>0.295000</td>\n",
       "      <td>0.704</td>\n",
       "      <td>0.707</td>\n",
       "      <td>0.000246</td>\n",
       "      <td>0.4020</td>\n",
       "      <td>-6.036</td>\n",
       "      <td>0.0768</td>\n",
       "      <td>122.076</td>\n",
       "      <td>0.2990</td>\n",
       "      <td>9</td>\n",
       "    </tr>\n",
       "  </tbody>\n",
       "</table>\n",
       "</div>"
      ],
      "text/plain": [
       "                        acousticness  danceability  energy  instrumentalness  \\\n",
       "id                                                                             \n",
       "0cS0A1fUEUd1EW3FcF8AEI      0.991000         0.598   0.224          0.000522   \n",
       "0hbkKFIJm7Z05H8Zl9w30f      0.643000         0.852   0.517          0.026400   \n",
       "11m7laMUgmOKqI3oYzuhne      0.993000         0.647   0.186          0.000018   \n",
       "19Lc5SfJJ5O1oaxY0fpwfh      0.000173         0.730   0.798          0.801000   \n",
       "2hJjbsLCytGsnAHfdsLejp      0.295000         0.704   0.707          0.000246   \n",
       "\n",
       "                        liveness  loudness  speechiness    tempo  valence  \\\n",
       "id                                                                          \n",
       "0cS0A1fUEUd1EW3FcF8AEI    0.3790   -12.628       0.0936  149.976   0.6340   \n",
       "0hbkKFIJm7Z05H8Zl9w30f    0.0809    -7.261       0.0534   86.889   0.9500   \n",
       "11m7laMUgmOKqI3oYzuhne    0.5190   -12.098       0.1740   97.600   0.6890   \n",
       "19Lc5SfJJ5O1oaxY0fpwfh    0.1280    -7.311       0.0425  127.997   0.0422   \n",
       "2hJjbsLCytGsnAHfdsLejp    0.4020    -6.036       0.0768  122.076   0.2990   \n",
       "\n",
       "                        cluster  \n",
       "id                               \n",
       "0cS0A1fUEUd1EW3FcF8AEI       23  \n",
       "0hbkKFIJm7Z05H8Zl9w30f       11  \n",
       "11m7laMUgmOKqI3oYzuhne       25  \n",
       "19Lc5SfJJ5O1oaxY0fpwfh       16  \n",
       "2hJjbsLCytGsnAHfdsLejp        9  "
      ]
     },
     "execution_count": 675,
     "metadata": {},
     "output_type": "execute_result"
    }
   ],
   "source": [
    "kaggelcluster.head()"
   ]
  },
  {
   "cell_type": "markdown",
   "metadata": {},
   "source": [
    "## Functions for recomender"
   ]
  },
  {
   "cell_type": "code",
   "execution_count": 646,
   "metadata": {},
   "outputs": [],
   "source": [
    "end=(\"Thanks for using RobertsRecomendationRobot  RRR\")"
   ]
  },
  {
   "cell_type": "code",
   "execution_count": 655,
   "metadata": {},
   "outputs": [],
   "source": [
    "def Spotify():\n",
    "    kunst=input(\"Which artist do you like? \")\n",
    "    print(\"                                        \")\n",
    "    lied=input(\"Any specific Song? if not leave it blank \")\n",
    "    print(\"                                        \")\n",
    "    tosearch=(kunst+\" \"+lied)\n",
    "    kind=songrecomender(lied,tosearch)\n",
    "    if kind == \"Hot\" or \"classic\":\n",
    "        newsearch=input(\"Would you like to look on Spotify as well? \")\n",
    "        if newsearch == \"yes\":\n",
    "            again(tosearch)\n",
    "           \n",
    "        \n",
    "                    \n",
    "        else:\n",
    "            print(end)\n",
    "\n",
    "    elif kind == \"spotify\":\n",
    "        print(end)\n",
    "    else:\n",
    "        print(end)\n",
    "    return"
   ]
  },
  {
   "cell_type": "code",
   "execution_count": 656,
   "metadata": {},
   "outputs": [],
   "source": [
    "def again (tosearch):\n",
    "    kaggelrec(tosearch)\n",
    "     \n",
    "    newsearch=input(\"would you like to look for another song?\")\n",
    "    if newsearch == \"yes\":\n",
    "        again(tosearch)\n",
    "    else:\n",
    "        print(end)\n",
    "    return"
   ]
  },
  {
   "cell_type": "code",
   "execution_count": 673,
   "metadata": {},
   "outputs": [],
   "source": [
    "def kaggelrec(tosearch) : \n",
    "    feat=sp.audio_features(sp.search(tosearch)[\"tracks\"][\"items\"][0][\"id\"])\n",
    "    songfeat=pd.json_normalize(feat)\n",
    "    songfeat.set_index(\"id\",inplace=True)\n",
    "    songfeat1=songfeat[['acousticness',     'danceability',\n",
    "                     'energy', 'instrumentalness','liveness',\n",
    "                   'loudness',      'speechiness', 'tempo',\n",
    "                    'valence']]\n",
    "    \n",
    "    \n",
    "    songfeat_scaled=scaler_x.transform(songfeat1)\n",
    "    cluster = int(kmeans.predict(songfeat_scaled))\n",
    "    recsongid=kaggelcluster[kaggelcluster[\"cluster\"]==cluster].sample().index.values.astype(object)[0]\n",
    "\n",
    "    songinfos=sp.track(recsongid)\n",
    "    \n",
    "    \n",
    "    print(\"                                        \")\n",
    "    print(\"----------------------------------------\")\n",
    "    print(\"You will love the Song: \")\n",
    "    print(\"{} - {}\".format(songinfos[\"name\"],songinfos[\"artists\"][0][\"name\"]))\n",
    "    print(\"----------------------------------------\")\n",
    "    print(\"You can find it here:\")\n",
    "    print(songinfos[\"external_urls\"][\"spotify\"])\n",
    "    return "
   ]
  },
  {
   "cell_type": "code",
   "execution_count": null,
   "metadata": {},
   "outputs": [],
   "source": [
    "def songrecomender(songname,tosearch):\n",
    "    if songname in top100.values:\n",
    "        newsong=top100.sample()\n",
    "        print(\"                                        \")\n",
    "        print(\"----------------------------------------\")\n",
    "        print(\"Your Song is incredibly HOT\")\n",
    "        print(\"                                        \")\n",
    "        print(\"Maybe you also like this HOT Song:\")\n",
    "        print(\"----------------------------------------\")\n",
    "        print(\"{} - {}\".format(newsong.iloc[0][0],newsong.iloc[0][1]))\n",
    "        Hot=\"Hot\"\n",
    "        return Hot\n",
    "    elif songname in alltime.values:\n",
    "        newsong=alltime.sample()\n",
    "        print(\"                                        \")\n",
    "        print(\"----------------------------------------\")\n",
    "        print(\"You seem to like an oll time classic\")\n",
    "        print(\"                                        \")\n",
    "        print(\"Maybe you also like this all time banger \")\n",
    "        print(\"----------------------------------------\")\n",
    "        print(\"{} - {}\".format(newsong.iloc[0][0],newsong.iloc[0][1]))\n",
    "        Classic=\"classic\"\n",
    "        return  Classic\n",
    "    else:\n",
    "        \n",
    "        print(\"Your Song is neither Hot or a classic so we will find you something on Spotify\")\n",
    "        print(\"                                        \")\n",
    "        kaggelrec(tosearch)\n",
    "        spot=\"spotify\"\n",
    "    return spot"
   ]
  },
  {
   "cell_type": "markdown",
   "metadata": {},
   "source": [
    "## Roberts Recomendation Robot "
   ]
  },
  {
   "cell_type": "code",
   "execution_count": 674,
   "metadata": {},
   "outputs": [
    {
     "name": "stdout",
     "output_type": "stream",
     "text": [
      "Which artist do you like? card\n",
      "                                        \n",
      "Any specific Song? if not leave it blank \n",
      "                                        \n",
      "                                        \n",
      "----------------------------------------\n",
      "You seem to like an oll time classic\n",
      "Maybe you also like this all time banger \n",
      "Take Me Over - Peking Duk featuring Safia\n",
      "Would you like to look on Spotify as well? yes\n",
      "                                        \n",
      "----------------------------------------\n",
      "You will love the Song: \n",
      "Karotseris - ANTONIS NTALGKAS\n",
      "----------------------------------------\n",
      "You can find it here:\n",
      "https://open.spotify.com/track/36ukutBisc3CefUhyFSvCi\n",
      "would you like to look for another song?no\n",
      "Thanks for using RobertsRecomendationRobot  RRR\n"
     ]
    }
   ],
   "source": [
    "Spotify()"
   ]
  },
  {
   "cell_type": "code",
   "execution_count": null,
   "metadata": {},
   "outputs": [],
   "source": []
  },
  {
   "cell_type": "markdown",
   "metadata": {},
   "source": [
    "## Backup functions"
   ]
  },
  {
   "cell_type": "code",
   "execution_count": 402,
   "metadata": {},
   "outputs": [],
   "source": [
    "def get_song_features(song_name):\n",
    "    results = sp.search(q=song_name, limit=5)\n",
    "    for singer in range(len(results[\"tracks\"][\"items\"])):\n",
    "        x = input(\"By this artist? {} \".format(results['tracks']['items'][singer]['artists'][0]['name'])).lower()\n",
    "        if x == 'yes':\n",
    "            features_find = results['tracks']['items'][singer]['uri']\n",
    "            song_features = sp.audio_features(features_find)\n",
    "            break\n",
    "        elif x != 'yes':\n",
    "            continue\n",
    "    return song_features"
   ]
  },
  {
   "cell_type": "code",
   "execution_count": 270,
   "metadata": {},
   "outputs": [],
   "source": [
    "def get_features(song_features): \n",
    "    song_id=list(song_features.keys()) \n",
    "    features=list(song_features[song_id[0]][0])\n",
    "    feature_dict={}\n",
    "    for i in range(len(features)):\n",
    "        value_list=[]\n",
    "        for n in range(len(song_features)): \n",
    "            result=song_features[song_id[n]][0][features[i]]\n",
    "            value_list.append(result)\n",
    "            #print(result)\n",
    "            feature_dict[features[i]]=value_list\n",
    "    df=pd.DataFrame.from_dict(feature_dict)\n",
    "    return df"
   ]
  },
  {
   "cell_type": "code",
   "execution_count": 273,
   "metadata": {},
   "outputs": [],
   "source": [
    "def features(tracks):\n",
    "    song_features = {}\n",
    "    for i in range(len(tracks)):\n",
    "        song_features[tracks[i][\"track\"][\"id\"]] = sp.audio_features(tracks[i][\"track\"][\"uri\"])\n",
    "    return song_features\n",
    "#big_spotify=features(tracks)"
   ]
  },
  {
   "cell_type": "code",
   "execution_count": null,
   "metadata": {},
   "outputs": [],
   "source": []
  }
 ],
 "metadata": {
  "kernelspec": {
   "display_name": "Python 3",
   "language": "python",
   "name": "python3"
  },
  "language_info": {
   "codemirror_mode": {
    "name": "ipython",
    "version": 3
   },
   "file_extension": ".py",
   "mimetype": "text/x-python",
   "name": "python",
   "nbconvert_exporter": "python",
   "pygments_lexer": "ipython3",
   "version": "3.8.5"
  }
 },
 "nbformat": 4,
 "nbformat_minor": 4
}
